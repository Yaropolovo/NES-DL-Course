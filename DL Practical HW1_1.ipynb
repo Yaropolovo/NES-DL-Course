{
  "nbformat": 4,
  "nbformat_minor": 0,
  "metadata": {
    "kernelspec": {
      "display_name": "Python 3",
      "language": "python",
      "name": "python3"
    },
    "language_info": {
      "codemirror_mode": {
        "name": "ipython",
        "version": 3
      },
      "file_extension": ".py",
      "mimetype": "text/x-python",
      "name": "python",
      "nbconvert_exporter": "python",
      "pygments_lexer": "ipython3",
      "version": "3.8.8"
    },
    "toc": {
      "colors": {
        "hover_highlight": "#DAA520",
        "navigate_num": "#000000",
        "navigate_text": "#333333",
        "running_highlight": "#FF0000",
        "selected_highlight": "#FFD700",
        "sidebar_border": "#EEEEEE",
        "wrapper_background": "#FFFFFF"
      },
      "moveMenuLeft": true,
      "nav_menu": {
        "height": "264px",
        "width": "252px"
      },
      "navigate_menu": true,
      "number_sections": true,
      "sideBar": true,
      "threshold": 4,
      "toc_cell": false,
      "toc_section_display": "block",
      "toc_window_display": false,
      "widenNotebook": false
    },
    "colab": {
      "name": "sem00_backprop.ipynb",
      "provenance": [],
      "collapsed_sections": [
        "CCm0MzKLHMdN",
        "AIAviO3ZxD1N"
      ]
    },
    "accelerator": "GPU"
  },
  "cells": [
    {
      "cell_type": "markdown",
      "metadata": {
        "id": "j3qt4Mw9HMdC"
      },
      "source": [
        "### Your very own neural network\n",
        "\n",
        "In this notebook, we're going to build a neural network using naught but pure numpy and your willpower."
      ]
    },
    {
      "cell_type": "code",
      "metadata": {
        "id": "y67T0AGlHMdH",
        "colab": {
          "base_uri": "https://localhost:8080/"
        },
        "outputId": "2aaa5e92-21cb-4684-a882-e6ddcfebed3f"
      },
      "source": [
        "# you may need this to download auxiliary code\n",
        "! curl https://gist.githubusercontent.com/new-okaerinasai/2e212dccb0fbf019eb4b8a3d42dbf033/raw/9af114412393f1783ba29b78b20bdc2b7bc25abb/util.py  > util.py\n",
        "! curl https://gist.githubusercontent.com/new-okaerinasai/a4026e0afe374b7371bd06d8138f4ac4/raw/df9074f6e4eb6e5eccaabc6e15b079b2261c0be9/mnist.py > mnist.py\n",
        "\n",
        "from __future__ import print_function\n",
        "import numpy as np\n",
        "np.random.seed(42)"
      ],
      "execution_count": null,
      "outputs": [
        {
          "output_type": "stream",
          "text": [
            "  % Total    % Received % Xferd  Average Speed   Time    Time     Time  Current\n",
            "                                 Dload  Upload   Total   Spent    Left  Speed\n",
            "100  3782  100  3782    0     0  28870      0 --:--:-- --:--:-- --:--:-- 28651\n",
            "  % Total    % Received % Xferd  Average Speed   Time    Time     Time  Current\n",
            "                                 Dload  Upload   Total   Spent    Left  Speed\n",
            "100  3421  100  3421    0     0  35268      0 --:--:-- --:--:-- --:--:-- 35268\n"
          ],
          "name": "stdout"
        }
      ]
    },
    {
      "cell_type": "markdown",
      "metadata": {
        "id": "Bhh9s5m7HMdJ"
      },
      "source": [
        "### Recap: derivatives.\n",
        "\n",
        "From your calculus course you know about derivatives:\n",
        "\\begin{gather*}\n",
        "    \\cfrac{\\partial e^x}{\\partial x} = e^x \\\\\n",
        "    \\cfrac{\\partial x^2}{\\partial x} = 2x \\\\\n",
        "    \\cfrac{\\partial kx}{\\partial x} = k\n",
        "\\end{gather*}\n",
        "\n",
        "For backpropagation things go a bit more complicated...\n",
        "\n",
        "A **composite function** is a function of a function.<br>If $u$ is a function of $x$, i.e. $u=u(x)$, and $f$ is a function of $u$:  $f=f(u)$, the function $y(x) = f(u(x))$ is composite.\n",
        "\n",
        "For a composite function $f(z_1(x), z_2(x), \\ldots, z_m(x))$ the derivative w.r.t. a single number $x$ is calculated as follows:\n",
        "$$\n",
        "    \\cfrac{\\partial f}{\\partial x} = \\sum_{i=1}^m \\cfrac{\\partial f}{\\partial z_i} \\cfrac{\\partial z_i}{\\partial x}\n",
        "$$\n",
        "\n",
        "$$\n",
        "    \\cfrac{\\partial f(u(x))}{\\partial x} = \\cfrac{\\partial f(u(x))}{\\partial u(x)} \\cdot \\cfrac{\\partial u(x)}{\\partial x}\n",
        "$$\n",
        "\n",
        "In case of neural networks $z_i$'s may be outputs of the NN (or its intermidiate layer) for $m$ objects in a batch and $f$ may be the loss function and $x$ may be a single neuron weight (or bias). $x$ may also represent one element of the input of the NN (or its intermidiate layer).\n",
        "\n",
        "So to **backpropagate** through the layer, you need to have pre-computed gradients w.r.t. the outputs of the layer ($\\partial f / \\partial z_i$'s) and you need to do two things: calculate gradients w.r.t. every single weight in the layer (if there are any) and w.r.t. inputs. This gradient will be passed as an input to the previous layer of the network."
      ]
    },
    {
      "cell_type": "markdown",
      "metadata": {
        "id": "5VTxn5M-HMdJ"
      },
      "source": [
        "Here goes our main class: a layer that can .forward() and .backward()."
      ]
    },
    {
      "cell_type": "code",
      "metadata": {
        "id": "U5o1yiSZHMdK"
      },
      "source": [
        "class Layer:\n",
        "    \"\"\"\n",
        "    A building block. Each layer is capable of performing two things:\n",
        "    \n",
        "    - Process input to get output:           output = layer.forward(input)\n",
        "    \n",
        "    - Propagate gradients through itself:    grad_input = layer.backward(input, grad_output)\n",
        "    \n",
        "    Some layers also have learnable parameters which they update during layer.backward.\n",
        "    \"\"\"\n",
        "    def __init__(self):\n",
        "        \"\"\"Here you can initialize layer parameters (if any) and auxiliary stuff.\"\"\"\n",
        "        # A dummy layer does nothing\n",
        "        pass\n",
        "    \n",
        "    def forward(self, input):\n",
        "        \"\"\"\n",
        "        Takes input data of shape [batch, input_units], returns output data [batch, output_units]\n",
        "        \"\"\"\n",
        "        # A dummy layer just returns whatever it gets as input.\n",
        "        return input\n",
        "\n",
        "    def backward(self, input, grad_output):\n",
        "        \"\"\"\n",
        "        Performs a backpropagation step through the layer, with respect to the given input.\n",
        "        \n",
        "        To compute loss gradients w.r.t input, you need to apply chain rule (backprop):\n",
        "        \n",
        "        d loss / d x  = (d loss / d layer) * (d layer / d x)\n",
        "        \n",
        "        Luckily, you already receive d loss / d layer as input, so you only need to multiply it by d layer / d x.\n",
        "        \n",
        "        If your layer has parameters (e.g. dense layer), you also need to update them here using d loss / d layer\n",
        "        \"\"\"\n",
        "        # The gradient of a dummy layer is precisely grad_output, but we'll write it more explicitly\n",
        "        num_units = input.shape[1]\n",
        "        \n",
        "        d_layer_d_input = np.eye(num_units)\n",
        "        \n",
        "        return np.dot(grad_output, d_layer_d_input) # chain rule"
      ],
      "execution_count": null,
      "outputs": []
    },
    {
      "cell_type": "markdown",
      "metadata": {
        "id": "52RYoAHjHMdL"
      },
      "source": [
        "### The road ahead\n",
        "\n",
        "We're going to build a neural network that classifies MNIST digits. To do so, we'll need a few building blocks:\n",
        "- Dense layer - a fully-connected layer, $f(X)=X \\cdot W + \\vec{b}$\n",
        "- ReLU layer (or any other nonlinearity you want)\n",
        "- Loss function - crossentropy\n",
        "- Backprop algorithm - a stochastic gradient descent with backpropageted gradients\n",
        "\n",
        "Let's approach them one at a time.\n"
      ]
    },
    {
      "cell_type": "markdown",
      "metadata": {
        "id": "ayMjdFALrcUB"
      },
      "source": [
        "$$\n",
        "    ReLU(x) = \\begin{cases}\n",
        "      0, x < 0\\\\\n",
        "      x, x \\geq 0\n",
        "    \\end{cases}\n",
        "$$"
      ]
    },
    {
      "cell_type": "code",
      "metadata": {
        "id": "P-YyzyBHrcKM"
      },
      "source": [
        ""
      ],
      "execution_count": null,
      "outputs": []
    },
    {
      "cell_type": "code",
      "metadata": {
        "id": "iv57nv2Srbev"
      },
      "source": [
        ""
      ],
      "execution_count": null,
      "outputs": []
    },
    {
      "cell_type": "markdown",
      "metadata": {
        "id": "q1Ou9-DIHMdM"
      },
      "source": [
        "### Nonlinearity layer\n",
        "\n",
        "This is the simplest layer you can get: it simply applies a nonlinearity to each element of input."
      ]
    },
    {
      "cell_type": "code",
      "metadata": {
        "id": "wbOzitLOHMdM"
      },
      "source": [
        "class ReLU(Layer):\n",
        "    def __init__(self):\n",
        "        \"\"\"ReLU layer simply applies elementwise rectified linear unit to all inputs\"\"\"\n",
        "        pass\n",
        "    \n",
        "    def forward(self, input):\n",
        "        \"\"\"Apply elementwise ReLU to [batch, input_units] matrix\"\"\"\n",
        "        # <your code. Try np.maximum>\n",
        "        output = np.where(input > 0, input, 0)\n",
        "        return output\n",
        "    \n",
        "    def backward(self, input, grad_output):\n",
        "        \"\"\"Compute gradient of loss w.r.t. ReLU input\"\"\"\n",
        "        relu_grad = input > 0\n",
        "        return grad_output*relu_grad"
      ],
      "execution_count": null,
      "outputs": []
    },
    {
      "cell_type": "code",
      "metadata": {
        "id": "f07tEYxlsIvf"
      },
      "source": [
        ""
      ],
      "execution_count": null,
      "outputs": []
    },
    {
      "cell_type": "code",
      "metadata": {
        "id": "P0ByPE6YHMdM"
      },
      "source": [
        "# some tests\n",
        "from util import eval_numerical_gradient\n",
        "x = np.linspace(-1,1,10*32).reshape([10,32])\n",
        "l = ReLU()\n",
        "grads = l.backward(x,np.ones([10,32])/(32*10))\n",
        "numeric_grads = eval_numerical_gradient(lambda x: l.forward(x).mean(), x=x)\n",
        "assert np.allclose(grads, numeric_grads, rtol=1e-3, atol=0),\\\n",
        "    \"gradient returned by your layer does not match the numerically computed gradient\""
      ],
      "execution_count": null,
      "outputs": []
    },
    {
      "cell_type": "markdown",
      "metadata": {
        "id": "CCm0MzKLHMdN"
      },
      "source": [
        "#### Instant primer: lambda functions\n",
        "\n",
        "In python, you can define functions in one line using the `lambda` syntax: `lambda param1, param2: expression`\n",
        "\n",
        "For example: `f = lambda x, y: x+y` is equivalent to a normal function:\n",
        "\n",
        "```\n",
        "def f(x,y):\n",
        "    return x+y\n",
        "```\n",
        "For more information, click [here](http://www.secnetix.de/olli/Python/lambda_functions.hawk).    "
      ]
    },
    {
      "cell_type": "markdown",
      "metadata": {
        "id": "rQ44iMnZHMdN"
      },
      "source": [
        "### Dense layer\n",
        "\n",
        "Now let's build something more complicated. Unlike nonlinearity, a dense layer actually has something to learn.\n",
        "\n",
        "A dense layer applies affine transformation. In a vectorized form, it can be described as:\n",
        "$$f(X)= X \\cdot W + \\vec b $$\n",
        "\n",
        "Where \n",
        "* X is an object-feature matrix of shape [batch_size, num_features],\n",
        "* W is a weight matrix [num_features, num_outputs] \n",
        "* and b is a vector of num_outputs biases.\n",
        "\n",
        "Both W and b are initialized during layer creation and updated each time backward is called."
      ]
    },
    {
      "cell_type": "code",
      "metadata": {
        "id": "5krnjj4GHMdP"
      },
      "source": [
        "class Dense(Layer):\n",
        "    def __init__(self, input_units, output_units, learning_rate=0.1):\n",
        "        \"\"\"\n",
        "        A dense layer is a layer which performs a learned affine transformation:\n",
        "        f(x) = <x*W> + b\n",
        "        \"\"\"\n",
        "        self.learning_rate = learning_rate\n",
        "        \n",
        "        # initialize weights with small random numbers. We use normal initialization, \n",
        "        # but surely there is something better. Try this once you got it working: http://bit.ly/2vTlmaJ\n",
        "        self.weights = np.random.randn(input_units, output_units)*0.01\n",
        "        self.biases = np.zeros(output_units)\n",
        "        \n",
        "    def forward(self,input):\n",
        "        \"\"\"\n",
        "        Perform an affine transformation:\n",
        "        f(x) = <x*W> + b\n",
        "        \n",
        "        input shape: [batch, input_units]\n",
        "        output shape: [batch, output units]\n",
        "        \"\"\"\n",
        "        return input @ self.weights + self.biases[np.newaxis]\n",
        "    \n",
        "    def backward(self,input,grad_output):\n",
        "        \"\"\"\n",
        "            input is the same as X\n",
        "            self.weights is the same as W\n",
        "            self.biases is the same as b\n",
        "        \"\"\"\n",
        "        # compute d f / d x = d f / d dense * d dense / d x\n",
        "        # where d dense/ d x = weights transposed\n",
        "        # self.weights shape == [m, n]\n",
        "        # grad_output == [batch, n]\n",
        "        # grad_input == [batch, m]\n",
        "        grad_input = grad_output @ self.weights.T\n",
        "        # <your code>\n",
        "        \n",
        "        # compute gradient w.r.t. weights and biases\n",
        "        grad_weights = input.T @ grad_output\n",
        "        grad_biases = grad_output.sum(0)\n",
        "        \n",
        "        assert grad_weights.shape == self.weights.shape and grad_biases.shape == self.biases.shape\n",
        "        # Here we perform a stochastic gradient descent step. \n",
        "        # Later on, you can try replacing that with something better.\n",
        "        self.weights = self.weights - self.learning_rate * grad_weights\n",
        "        self.biases = self.biases - self.learning_rate * grad_biases\n",
        "        \n",
        "        return grad_input"
      ],
      "execution_count": null,
      "outputs": []
    },
    {
      "cell_type": "markdown",
      "metadata": {
        "id": "Pp0Lzbl9HMdQ"
      },
      "source": [
        "### Testing the dense layer\n",
        "\n",
        "Here we have a few tests to make sure your dense layer works properly. You can just run them, get 3 \"well done\"s and forget they ever existed.\n",
        "\n",
        "... or not get 3 \"well done\"s and go fix stuff. If that is the case, here are some tips for you:\n",
        "* Make sure you compute gradients for b as __sum of gradients over batch__, not mean over gradients. Grad_output is already divided by batch size.\n",
        "* If you're debugging, try saving gradients in class fields, like \"self.grad_w = grad_w\" or print first 3-5 weights. This helps debugging.\n",
        "* If nothing else helps, try ignoring tests and proceed to network training. If it trains alright, you may be off by something that does not affect network training."
      ]
    },
    {
      "cell_type": "code",
      "metadata": {
        "id": "ZeJunKcoHMdQ",
        "colab": {
          "base_uri": "https://localhost:8080/"
        },
        "outputId": "3918ca90-a4aa-4cb4-bcbc-e9b0e41b6045"
      },
      "source": [
        "l = Dense(128, 150)\n",
        "\n",
        "assert -0.05 < l.weights.mean() < 0.05 and 1e-3 < l.weights.std() < 1e-1,\\\n",
        "    \"The initial weights must have zero mean and small variance. \"\\\n",
        "    \"If you know what you're doing, remove this assertion.\"\n",
        "assert -0.05 < l.biases.mean() < 0.05, \"Biases must be zero mean. Ignore if you have a reason to do otherwise.\"\n",
        "\n",
        "# To test the outputs, we explicitly set weights with fixed values. DO NOT DO THAT IN ACTUAL NETWORK!\n",
        "l = Dense(3,4)\n",
        "\n",
        "x = np.linspace(-1,1,2*3).reshape([2,3])\n",
        "l.weights = np.linspace(-1,1,3*4).reshape([3,4])\n",
        "l.biases = np.linspace(-1,1,4)\n",
        "\n",
        "assert np.allclose(l.forward(x),np.array([[ 0.07272727,  0.41212121,  0.75151515,  1.09090909],\n",
        "                                          [-0.90909091,  0.08484848,  1.07878788,  2.07272727]]))\n",
        "print(\"Well done!\")"
      ],
      "execution_count": null,
      "outputs": [
        {
          "output_type": "stream",
          "text": [
            "Well done!\n"
          ],
          "name": "stdout"
        }
      ]
    },
    {
      "cell_type": "code",
      "metadata": {
        "id": "T4ulJXKGHMdQ",
        "colab": {
          "base_uri": "https://localhost:8080/"
        },
        "outputId": "4b5a8fa0-04f7-4452-c045-ded92106423d"
      },
      "source": [
        "# To test the grads, we use gradients obtained via finite differences\n",
        "\n",
        "from util import eval_numerical_gradient\n",
        "\n",
        "x = np.linspace(-1,1,10*32).reshape([10,32])\n",
        "l = Dense(32,64,learning_rate=0)\n",
        "\n",
        "numeric_grads = eval_numerical_gradient(lambda x: l.forward(x).sum(),x)\n",
        "grads = l.backward(x,np.ones([10,64]))\n",
        "\n",
        "assert np.allclose(grads,numeric_grads,rtol=1e-3,atol=0), \"input gradient does not match numeric grad\"\n",
        "print(\"Well done!\")"
      ],
      "execution_count": null,
      "outputs": [
        {
          "output_type": "stream",
          "text": [
            "Well done!\n"
          ],
          "name": "stdout"
        }
      ]
    },
    {
      "cell_type": "code",
      "metadata": {
        "id": "NlAzgWKMHMdQ",
        "colab": {
          "base_uri": "https://localhost:8080/"
        },
        "outputId": "47e05629-748b-4e9d-ccc8-80b7ddce379b"
      },
      "source": [
        "#test gradients w.r.t. params\n",
        "def compute_out_given_wb(w,b):\n",
        "    l = Dense(32,64,learning_rate=1)\n",
        "    l.weights = np.array(w)\n",
        "    l.biases = np.array(b)\n",
        "    x = np.linspace(-1,1,10*32).reshape([10,32])\n",
        "    return l.forward(x)\n",
        "    \n",
        "def compute_grad_by_params(w,b):\n",
        "    l = Dense(32,64,learning_rate=1)\n",
        "    l.weights = np.array(w)\n",
        "    l.biases = np.array(b)\n",
        "    x = np.linspace(-1,1,10*32).reshape([10,32])\n",
        "    l.backward(x,np.ones([10,64]) / 10.)\n",
        "    return w - l.weights, b - l.biases\n",
        "    \n",
        "w,b = np.random.randn(32,64), np.linspace(-1,1,64)\n",
        "\n",
        "numeric_dw = eval_numerical_gradient(lambda w: compute_out_given_wb(w,b).mean(0).sum(),w )\n",
        "numeric_db = eval_numerical_gradient(lambda b: compute_out_given_wb(w,b).mean(0).sum(),b )\n",
        "grad_w,grad_b = compute_grad_by_params(w,b)\n",
        "\n",
        "assert np.allclose(numeric_dw,grad_w,rtol=1e-3,atol=0), \"weight gradient does not match numeric weight gradient\"\n",
        "assert np.allclose(numeric_db,grad_b,rtol=1e-3,atol=0), \"weight gradient does not match numeric weight gradient\"\n",
        "print(\"Well done!\")"
      ],
      "execution_count": null,
      "outputs": [
        {
          "output_type": "stream",
          "text": [
            "Well done!\n"
          ],
          "name": "stdout"
        }
      ]
    },
    {
      "cell_type": "markdown",
      "metadata": {
        "id": "AIAviO3ZxD1N"
      },
      "source": [
        "## Intro to PyTorch starts here"
      ]
    },
    {
      "cell_type": "code",
      "metadata": {
        "id": "KVrGWPWqxJSG",
        "colab": {
          "base_uri": "https://localhost:8080/"
        },
        "outputId": "a63a65fb-52d6-41fa-a1c8-f68344424dc4"
      },
      "source": [
        "! pip install torch torchvision "
      ],
      "execution_count": null,
      "outputs": [
        {
          "output_type": "stream",
          "text": [
            "Requirement already satisfied: torch in /usr/local/lib/python3.7/dist-packages (1.8.0+cu101)\n",
            "Requirement already satisfied: torchvision in /usr/local/lib/python3.7/dist-packages (0.9.0+cu101)\n",
            "Requirement already satisfied: typing-extensions in /usr/local/lib/python3.7/dist-packages (from torch) (3.7.4.3)\n",
            "Requirement already satisfied: numpy in /usr/local/lib/python3.7/dist-packages (from torch) (1.19.5)\n",
            "Requirement already satisfied: pillow>=4.1.1 in /usr/local/lib/python3.7/dist-packages (from torchvision) (7.0.0)\n"
          ],
          "name": "stdout"
        }
      ]
    },
    {
      "cell_type": "code",
      "metadata": {
        "colab": {
          "base_uri": "https://localhost:8080/"
        },
        "id": "0ppX4F73yYUT",
        "outputId": "1a6c8d2f-6ec5-4a53-9640-b14fb7bed9c4"
      },
      "source": [
        "! nvidia-smi"
      ],
      "execution_count": null,
      "outputs": [
        {
          "output_type": "stream",
          "text": [
            "Mon Mar 22 07:06:30 2021       \n",
            "+-----------------------------------------------------------------------------+\n",
            "| NVIDIA-SMI 460.56       Driver Version: 460.32.03    CUDA Version: 11.2     |\n",
            "|-------------------------------+----------------------+----------------------+\n",
            "| GPU  Name        Persistence-M| Bus-Id        Disp.A | Volatile Uncorr. ECC |\n",
            "| Fan  Temp  Perf  Pwr:Usage/Cap|         Memory-Usage | GPU-Util  Compute M. |\n",
            "|                               |                      |               MIG M. |\n",
            "|===============================+======================+======================|\n",
            "|   0  Tesla T4            Off  | 00000000:00:04.0 Off |                    0 |\n",
            "| N/A   43C    P8    10W /  70W |      0MiB / 15109MiB |      0%      Default |\n",
            "|                               |                      |                  N/A |\n",
            "+-------------------------------+----------------------+----------------------+\n",
            "                                                                               \n",
            "+-----------------------------------------------------------------------------+\n",
            "| Processes:                                                                  |\n",
            "|  GPU   GI   CI        PID   Type   Process name                  GPU Memory |\n",
            "|        ID   ID                                                   Usage      |\n",
            "|=============================================================================|\n",
            "|  No running processes found                                                 |\n",
            "+-----------------------------------------------------------------------------+\n"
          ],
          "name": "stdout"
        }
      ]
    },
    {
      "cell_type": "code",
      "metadata": {
        "colab": {
          "base_uri": "https://localhost:8080/"
        },
        "id": "rWOjLnzOxDTo",
        "outputId": "9aec8d0d-2dff-48e8-c2b7-82b049c4868d"
      },
      "source": [
        "import torch\n",
        "import numpy as np\n",
        "\n",
        "\n",
        "torch.linalg.inv(torch.eye(12, 12))\n",
        "np.linalg.inv(np.eye(12, 12))"
      ],
      "execution_count": null,
      "outputs": [
        {
          "output_type": "execute_result",
          "data": {
            "text/plain": [
              "array([[1., 0., 0., 0., 0., 0., 0., 0., 0., 0., 0., 0.],\n",
              "       [0., 1., 0., 0., 0., 0., 0., 0., 0., 0., 0., 0.],\n",
              "       [0., 0., 1., 0., 0., 0., 0., 0., 0., 0., 0., 0.],\n",
              "       [0., 0., 0., 1., 0., 0., 0., 0., 0., 0., 0., 0.],\n",
              "       [0., 0., 0., 0., 1., 0., 0., 0., 0., 0., 0., 0.],\n",
              "       [0., 0., 0., 0., 0., 1., 0., 0., 0., 0., 0., 0.],\n",
              "       [0., 0., 0., 0., 0., 0., 1., 0., 0., 0., 0., 0.],\n",
              "       [0., 0., 0., 0., 0., 0., 0., 1., 0., 0., 0., 0.],\n",
              "       [0., 0., 0., 0., 0., 0., 0., 0., 1., 0., 0., 0.],\n",
              "       [0., 0., 0., 0., 0., 0., 0., 0., 0., 1., 0., 0.],\n",
              "       [0., 0., 0., 0., 0., 0., 0., 0., 0., 0., 1., 0.],\n",
              "       [0., 0., 0., 0., 0., 0., 0., 0., 0., 0., 0., 1.]])"
            ]
          },
          "metadata": {
            "tags": []
          },
          "execution_count": 11
        }
      ]
    },
    {
      "cell_type": "code",
      "metadata": {
        "id": "Wf245_nezAoP"
      },
      "source": [
        "# np.array\n",
        "# torch.tensor\n",
        "\n",
        "a = torch.tensor([1, 2, 3, 4]).float()\n",
        "\n",
        "a.requires_grad = True\n",
        "b = a @ a"
      ],
      "execution_count": null,
      "outputs": []
    },
    {
      "cell_type": "code",
      "metadata": {
        "id": "HEvT3QpC0Se5"
      },
      "source": [
        "# t.backward()\n",
        "# t is a single number tensor\n",
        "\n",
        "a = torch.tensor([1, 2, 3, 4]).float()\n",
        "\n",
        "a.requires_grad = True\n",
        "b = a @ a\n",
        "\n",
        "b.backward()"
      ],
      "execution_count": null,
      "outputs": []
    },
    {
      "cell_type": "code",
      "metadata": {
        "id": "usr-bC821W-C"
      },
      "source": [
        "c = torch.tensor([1, 2, 3, 4]).float()\n",
        "c.requires_grad = True\n",
        "a = torch.log(c * torch.ones_like(c))\n",
        "s = a * 10\n",
        "s.retain_grad()\n",
        "\n",
        "b = s @ s\n",
        "d = b * 3\n",
        "\n",
        "e = c @ c\n",
        "b.backward()\n",
        "e.backward()"
      ],
      "execution_count": null,
      "outputs": []
    },
    {
      "cell_type": "code",
      "metadata": {
        "colab": {
          "base_uri": "https://localhost:8080/"
        },
        "id": "Ac2PNzMf2ERT",
        "outputId": "315934ab-a417-48fa-94d4-934a5a12f660"
      },
      "source": [
        "c.grad"
      ],
      "execution_count": null,
      "outputs": [
        {
          "output_type": "execute_result",
          "data": {
            "text/plain": [
              "tensor([ 2.0000, 73.3147, 79.2408, 77.3147])"
            ]
          },
          "metadata": {
            "tags": []
          },
          "execution_count": 15
        }
      ]
    },
    {
      "cell_type": "code",
      "metadata": {
        "id": "CCrKgrsG36PG"
      },
      "source": [
        "from torch import nn\n",
        "\n",
        "layer = nn.Linear(10, 20)\n",
        "\n",
        "y_pred = layer.forward(torch.eye(2, 10))\n",
        "\n",
        "criterion = nn.MSELoss()\n",
        "y_true = torch.rand(2, 20)\n",
        "\n",
        "loss = criterion(y_pred, y_true)\n",
        "\n",
        "loss.backward()"
      ],
      "execution_count": null,
      "outputs": []
    },
    {
      "cell_type": "code",
      "metadata": {
        "id": "siEBjkYD5neA"
      },
      "source": [
        "network = nn.Sequential(\n",
        "    nn.Linear(10, 20),\n",
        "    nn.ReLU(),\n",
        "    nn.Linear(20, 30),\n",
        "    nn.ReLU(),\n",
        "    nn.Linear(30, 1)\n",
        ")\n",
        "\n",
        "y_true = torch.rand(64, 1)\n",
        "X = torch.rand(64, 10)\n",
        "y_pred = network(X)\n",
        "\n",
        "criterion = nn.MSELoss()\n",
        "loss = criterion(y_pred, y_true)\n",
        "loss.backward()"
      ],
      "execution_count": null,
      "outputs": []
    },
    {
      "cell_type": "code",
      "metadata": {
        "colab": {
          "base_uri": "https://localhost:8080/"
        },
        "id": "v5m2mzJJ61xu",
        "outputId": "f93aa072-951e-4b20-955a-89c17f65a50b"
      },
      "source": [
        "for name, layer in network.named_modules():\n",
        "    if isinstance(layer, nn.Linear):\n",
        "        print(layer.weight.grad)\n",
        "        # layer.weight.data -= learning_rate * layer.weight.grad"
      ],
      "execution_count": null,
      "outputs": [
        {
          "output_type": "stream",
          "text": [
            "tensor([[-5.9227e-04, -1.2769e-03, -7.1916e-04, -1.2212e-03, -1.3676e-03,\n",
            "         -1.5202e-04, -4.7838e-04, -1.5224e-04, -4.3640e-04, -6.2844e-04],\n",
            "        [-1.7349e-03, -4.2877e-03, -4.5226e-03, -3.0557e-03, -2.7464e-03,\n",
            "         -2.3834e-03, -6.2023e-03, -3.5022e-03, -4.6755e-03, -7.5143e-03],\n",
            "        [ 5.2204e-03,  7.0774e-03,  4.3013e-03,  9.7894e-03,  4.5955e-03,\n",
            "          1.7241e-03,  8.4501e-03,  3.2167e-03,  4.6464e-03,  8.2825e-03],\n",
            "        [ 1.0515e-03,  1.1924e-03,  1.3178e-03,  3.8483e-04,  5.6472e-04,\n",
            "          8.5060e-04,  5.1206e-04,  1.4272e-03,  1.8189e-04,  1.3569e-03],\n",
            "        [ 5.8094e-02,  6.7417e-02,  5.8246e-02,  4.4520e-02,  7.5652e-02,\n",
            "          6.3476e-02,  4.6033e-02,  5.4187e-02,  6.7366e-02,  5.9687e-02],\n",
            "        [-2.2070e-02, -2.6214e-02, -3.1939e-02, -1.9938e-02, -2.3637e-02,\n",
            "         -2.5798e-02, -2.4335e-02, -2.8884e-02, -2.4926e-02, -2.9422e-02],\n",
            "        [ 4.0992e-02,  3.9312e-02,  4.0007e-02,  3.0853e-02,  4.6247e-02,\n",
            "          3.5837e-02,  3.0126e-02,  2.9304e-02,  3.9047e-02,  2.7245e-02],\n",
            "        [-6.2691e-03, -6.9453e-03, -5.1159e-03, -4.8783e-03, -5.4732e-03,\n",
            "         -6.7294e-03, -6.8732e-03, -6.8222e-03, -6.7659e-03, -5.2408e-03],\n",
            "        [-1.4872e-03, -9.8894e-04, -1.7112e-03, -3.8275e-04, -1.1412e-03,\n",
            "         -4.3404e-04, -8.2398e-04, -7.9244e-04, -2.0044e-03, -1.2253e-03],\n",
            "        [ 5.9708e-04,  1.0614e-03,  1.3466e-04,  6.6637e-04,  5.2760e-04,\n",
            "          1.8327e-03,  1.6206e-03,  1.8552e-03,  1.1193e-03,  1.0390e-03],\n",
            "        [ 1.7111e-04,  4.8453e-05,  1.0279e-04, -3.0837e-04, -1.0405e-04,\n",
            "          1.1938e-04, -4.3793e-04,  4.9430e-05, -2.8609e-04, -4.7933e-04],\n",
            "        [-1.4926e-02, -2.0729e-02, -2.1836e-02, -1.7354e-02, -2.2866e-02,\n",
            "         -2.2326e-02, -1.2503e-02, -1.7765e-02, -2.0957e-02, -1.7518e-02],\n",
            "        [ 2.4333e-02,  2.6841e-02,  2.2434e-02,  2.3477e-02,  2.7615e-02,\n",
            "          2.9055e-02,  2.3206e-02,  2.2518e-02,  2.7332e-02,  2.2187e-02],\n",
            "        [ 5.1702e-02,  6.2698e-02,  5.9748e-02,  5.0682e-02,  6.1588e-02,\n",
            "          6.7277e-02,  5.2105e-02,  6.1184e-02,  6.2466e-02,  5.6651e-02],\n",
            "        [-4.3278e-04, -6.5400e-04, -6.2575e-04, -6.9042e-04, -6.0175e-04,\n",
            "         -1.0931e-04, -6.4724e-04, -2.3063e-04, -5.4203e-05, -4.4111e-04],\n",
            "        [ 5.5566e-03,  8.9437e-03,  9.5901e-03,  6.7414e-03,  8.0021e-03,\n",
            "          7.9626e-03,  6.2513e-03,  8.6418e-03,  7.6931e-03,  1.0966e-02],\n",
            "        [ 3.4245e-02,  3.8401e-02,  5.1461e-02,  2.2953e-02,  4.0356e-02,\n",
            "          4.5854e-02,  5.2685e-02,  4.8572e-02,  4.4803e-02,  3.6674e-02],\n",
            "        [ 0.0000e+00,  0.0000e+00,  0.0000e+00,  0.0000e+00,  0.0000e+00,\n",
            "          0.0000e+00,  0.0000e+00,  0.0000e+00,  0.0000e+00,  0.0000e+00],\n",
            "        [-6.8475e-04, -9.7820e-04, -1.6031e-03, -1.0290e-03, -3.9652e-04,\n",
            "         -6.8807e-04, -8.1658e-05, -7.3365e-04, -3.2176e-04, -5.6702e-04],\n",
            "        [ 0.0000e+00,  0.0000e+00,  0.0000e+00,  0.0000e+00,  0.0000e+00,\n",
            "          0.0000e+00,  0.0000e+00,  0.0000e+00,  0.0000e+00,  0.0000e+00]])\n",
            "tensor([[ 0.0000e+00,  8.8820e-04,  2.9847e-04,  4.6509e-05,  1.8170e-02,\n",
            "          1.5606e-02,  4.7858e-03,  2.3949e-02,  1.0499e-03,  9.0952e-04,\n",
            "          2.0749e-05,  7.3959e-03,  1.7671e-02,  3.1315e-02,  0.0000e+00,\n",
            "          2.2857e-02,  6.6636e-03,  0.0000e+00,  0.0000e+00,  0.0000e+00],\n",
            "        [ 5.0915e-05,  8.0613e-04,  9.7823e-04,  4.2211e-05,  2.0851e-02,\n",
            "          1.6657e-02,  1.1495e-02,  3.3298e-02,  9.9337e-04,  8.2548e-04,\n",
            "          1.0541e-03,  1.0466e-02,  2.5035e-02,  3.3767e-02,  4.0898e-05,\n",
            "          3.0471e-02,  7.9034e-03,  0.0000e+00,  2.8737e-04,  0.0000e+00],\n",
            "        [ 0.0000e+00,  0.0000e+00,  0.0000e+00,  0.0000e+00,  0.0000e+00,\n",
            "          0.0000e+00,  0.0000e+00,  0.0000e+00,  0.0000e+00,  0.0000e+00,\n",
            "          0.0000e+00,  0.0000e+00,  0.0000e+00,  0.0000e+00,  0.0000e+00,\n",
            "          0.0000e+00,  0.0000e+00,  0.0000e+00,  0.0000e+00,  0.0000e+00],\n",
            "        [ 0.0000e+00, -2.4064e-04,  0.0000e+00,  0.0000e+00, -5.0463e-03,\n",
            "         -4.2293e-03, -6.5285e-04, -2.3950e-03,  0.0000e+00,  0.0000e+00,\n",
            "          0.0000e+00, -2.3362e-03, -1.4741e-03, -6.7877e-03,  0.0000e+00,\n",
            "         -4.8479e-03, -7.5922e-04,  0.0000e+00,  0.0000e+00,  0.0000e+00],\n",
            "        [ 8.2165e-06,  1.3009e-04,  1.5786e-04,  6.8119e-06,  3.2432e-03,\n",
            "          2.4972e-03,  1.4988e-03,  4.4921e-03,  1.5487e-04,  1.3321e-04,\n",
            "          1.7010e-04,  1.6889e-03,  3.7616e-03,  5.2083e-03,  6.6001e-06,\n",
            "          4.7038e-03,  9.2458e-04,  0.0000e+00,  4.6374e-05,  0.0000e+00],\n",
            "        [ 0.0000e+00,  0.0000e+00,  0.0000e+00,  0.0000e+00,  0.0000e+00,\n",
            "          0.0000e+00,  0.0000e+00,  0.0000e+00,  0.0000e+00,  0.0000e+00,\n",
            "          0.0000e+00,  0.0000e+00,  0.0000e+00,  0.0000e+00,  0.0000e+00,\n",
            "          0.0000e+00,  0.0000e+00,  0.0000e+00,  0.0000e+00,  0.0000e+00],\n",
            "        [-2.6752e-06, -6.7324e-05, -1.3127e-04, -9.6354e-07, -1.3847e-03,\n",
            "         -8.7084e-04, -1.1547e-03, -3.0784e-03, -5.4345e-06, -8.3176e-05,\n",
            "         -1.4144e-04, -9.2472e-04, -3.0319e-03, -2.5423e-03, -4.7507e-06,\n",
            "         -2.5430e-03, -7.0734e-04,  0.0000e+00, -3.8561e-05,  0.0000e+00],\n",
            "        [ 0.0000e+00,  0.0000e+00,  0.0000e+00,  0.0000e+00, -2.5491e-04,\n",
            "          0.0000e+00, -1.0037e-03, -1.5403e-03,  0.0000e+00,  0.0000e+00,\n",
            "          0.0000e+00,  0.0000e+00, -4.8908e-05,  0.0000e+00,  0.0000e+00,\n",
            "         -5.0009e-04,  0.0000e+00,  0.0000e+00,  0.0000e+00,  0.0000e+00],\n",
            "        [ 3.0703e-05,  4.8612e-04,  4.9466e-04,  2.5455e-05,  1.2143e-02,\n",
            "          8.0664e-03,  5.8505e-03,  1.3933e-02,  5.7871e-04,  4.9779e-04,\n",
            "          3.3918e-05,  5.7135e-03,  1.1482e-02,  1.7480e-02,  2.4663e-05,\n",
            "          1.3857e-02,  2.0849e-03,  0.0000e+00,  1.7329e-04,  0.0000e+00],\n",
            "        [ 6.3034e-05,  4.4039e-04,  6.3221e-04,  5.2259e-05,  2.4733e-02,\n",
            "          1.7784e-02,  1.2506e-02,  3.0165e-02,  1.2298e-03,  2.5459e-04,\n",
            "          4.8591e-05,  1.2466e-02,  2.1917e-02,  3.5291e-02,  5.0633e-05,\n",
            "          2.7123e-02,  8.4289e-03,  0.0000e+00,  3.5577e-04,  0.0000e+00],\n",
            "        [ 4.5058e-05,  7.1340e-04,  8.6571e-04,  3.7356e-05,  1.8452e-02,\n",
            "          1.4741e-02,  1.0173e-02,  2.9468e-02,  8.7910e-04,  7.3053e-04,\n",
            "          9.3282e-04,  9.2618e-03,  2.2155e-02,  2.9883e-02,  3.6194e-05,\n",
            "          2.6966e-02,  6.9942e-03,  0.0000e+00,  2.5431e-04,  0.0000e+00],\n",
            "        [ 0.0000e+00,  0.0000e+00,  0.0000e+00,  0.0000e+00,  0.0000e+00,\n",
            "          0.0000e+00,  0.0000e+00,  0.0000e+00,  0.0000e+00,  0.0000e+00,\n",
            "          0.0000e+00,  0.0000e+00,  0.0000e+00,  0.0000e+00,  0.0000e+00,\n",
            "          0.0000e+00,  0.0000e+00,  0.0000e+00,  0.0000e+00,  0.0000e+00],\n",
            "        [ 0.0000e+00,  0.0000e+00,  0.0000e+00,  0.0000e+00,  0.0000e+00,\n",
            "          0.0000e+00,  0.0000e+00,  0.0000e+00,  0.0000e+00,  0.0000e+00,\n",
            "          0.0000e+00,  0.0000e+00,  0.0000e+00,  0.0000e+00,  0.0000e+00,\n",
            "          0.0000e+00,  0.0000e+00,  0.0000e+00,  0.0000e+00,  0.0000e+00],\n",
            "        [-1.8751e-05, -2.7799e-04, -3.6027e-04, -1.2901e-05, -7.3837e-03,\n",
            "         -5.2234e-03, -3.6319e-03, -1.0205e-02, -2.8385e-04, -3.0402e-04,\n",
            "         -3.8820e-04, -3.7748e-03, -8.4536e-03, -1.1400e-02, -1.5062e-05,\n",
            "         -1.0335e-02, -1.6803e-03,  0.0000e+00, -1.0583e-04,  0.0000e+00],\n",
            "        [ 7.0063e-05,  1.1093e-03,  1.3461e-03,  9.8808e-06,  2.8304e-02,\n",
            "          2.1768e-02,  1.5818e-02,  4.4900e-02,  1.3670e-03,  1.1359e-03,\n",
            "          1.4505e-03,  1.4380e-02,  3.4450e-02,  4.5953e-02,  5.6279e-05,\n",
            "          4.0249e-02,  1.0876e-02,  0.0000e+00,  3.9544e-04,  0.0000e+00],\n",
            "        [ 0.0000e+00,  0.0000e+00,  0.0000e+00,  0.0000e+00,  0.0000e+00,\n",
            "          0.0000e+00,  0.0000e+00,  0.0000e+00,  0.0000e+00,  0.0000e+00,\n",
            "          0.0000e+00,  0.0000e+00,  0.0000e+00,  0.0000e+00,  0.0000e+00,\n",
            "          0.0000e+00,  0.0000e+00,  0.0000e+00,  0.0000e+00,  0.0000e+00],\n",
            "        [-7.0016e-05, -1.1085e-03, -4.6933e-04, -5.8047e-05, -2.7224e-02,\n",
            "         -1.7062e-02, -1.1153e-02, -2.7783e-02, -1.3197e-03, -2.8279e-04,\n",
            "         -7.7346e-05, -1.3029e-02, -2.3947e-02, -3.8572e-02, -7.5566e-06,\n",
            "         -2.6845e-02, -4.3821e-03,  0.0000e+00, -3.9517e-04,  0.0000e+00],\n",
            "        [ 0.0000e+00,  0.0000e+00,  0.0000e+00,  0.0000e+00,  0.0000e+00,\n",
            "          0.0000e+00,  0.0000e+00,  0.0000e+00,  0.0000e+00,  0.0000e+00,\n",
            "          0.0000e+00,  0.0000e+00,  0.0000e+00,  0.0000e+00,  0.0000e+00,\n",
            "          0.0000e+00,  0.0000e+00,  0.0000e+00,  0.0000e+00,  0.0000e+00],\n",
            "        [ 7.6590e-05,  1.2126e-03,  1.4715e-03,  6.3497e-05,  3.1365e-02,\n",
            "          2.5057e-02,  1.7292e-02,  5.0089e-02,  1.4943e-03,  1.2417e-03,\n",
            "          1.5856e-03,  1.5743e-02,  3.7659e-02,  5.0795e-02,  6.1522e-05,\n",
            "          4.5837e-02,  1.1889e-02,  0.0000e+00,  4.3227e-04,  0.0000e+00],\n",
            "        [-7.1137e-05, -1.1263e-03, -1.3668e-03, -5.8976e-05, -2.9132e-02,\n",
            "         -2.3273e-02, -1.6061e-02, -4.6523e-02, -1.3879e-03, -1.1533e-03,\n",
            "         -1.4727e-03, -1.4622e-02, -3.4978e-02, -4.7179e-02, -5.7142e-05,\n",
            "         -4.2574e-02, -1.1042e-02,  0.0000e+00, -4.0150e-04,  0.0000e+00],\n",
            "        [-6.2751e-05, -9.9353e-04, -1.2056e-03, -5.2024e-05, -2.5698e-02,\n",
            "         -2.0530e-02, -1.4167e-02, -4.1039e-02, -1.2243e-03, -1.0174e-03,\n",
            "         -1.2991e-03, -1.2899e-02, -3.0855e-02, -4.1617e-02, -5.0406e-05,\n",
            "         -3.7555e-02, -9.7406e-03,  0.0000e+00, -3.5417e-04,  0.0000e+00],\n",
            "        [ 7.7357e-05,  1.2248e-03,  1.4863e-03,  6.4133e-05,  3.1679e-02,\n",
            "          2.5308e-02,  1.7465e-02,  5.0591e-02,  1.5093e-03,  1.2542e-03,\n",
            "          1.6015e-03,  1.5901e-02,  3.8037e-02,  5.1304e-02,  6.2138e-05,\n",
            "          4.6296e-02,  1.2008e-02,  0.0000e+00,  4.3661e-04,  0.0000e+00],\n",
            "        [-5.4774e-05, -8.6723e-04, -1.0524e-03, -4.5411e-05, -2.2431e-02,\n",
            "         -1.7920e-02, -1.2366e-02, -3.5822e-02, -1.0687e-03, -8.8805e-04,\n",
            "         -1.1340e-03, -1.1259e-02, -2.6933e-02, -3.6327e-02, -4.3998e-05,\n",
            "         -3.2781e-02, -8.5025e-03,  0.0000e+00, -3.0915e-04,  0.0000e+00],\n",
            "        [-1.5730e-05,  0.0000e+00, -3.0374e-04,  0.0000e+00, -1.7542e-05,\n",
            "         -3.3685e-04, -4.9811e-04, -4.6978e-04,  0.0000e+00,  0.0000e+00,\n",
            "         -9.1008e-06, -2.9979e-05, -3.6037e-04, -3.0203e-05, -2.0767e-05,\n",
            "         -1.1853e-03,  0.0000e+00,  0.0000e+00,  0.0000e+00,  0.0000e+00],\n",
            "        [ 0.0000e+00, -1.8660e-04, -1.1559e-04, -8.6598e-06, -4.7732e-03,\n",
            "         -3.5039e-03, -2.3369e-03, -7.4598e-03, -2.4557e-04, -2.0406e-04,\n",
            "         -1.9229e-04, -1.6767e-03, -5.1844e-03, -7.4041e-03,  0.0000e+00,\n",
            "         -5.2484e-03, -1.6597e-03,  0.0000e+00,  0.0000e+00,  0.0000e+00],\n",
            "        [-1.2816e-05, -2.0292e-04, -2.4624e-04, -1.0625e-05, -5.0281e-03,\n",
            "         -4.1880e-03, -2.8639e-03, -8.0633e-03, -2.5005e-04, -2.0779e-04,\n",
            "         -2.6533e-04, -2.5493e-03, -5.6398e-03, -7.9669e-03, -1.0295e-05,\n",
            "         -7.5658e-03, -1.8765e-03,  0.0000e+00, -7.2335e-05,  0.0000e+00],\n",
            "        [-1.9891e-05, -3.1492e-04, -3.8216e-04, -1.6490e-05, -8.1456e-03,\n",
            "         -6.5074e-03, -4.4907e-03, -1.3008e-02, -3.8807e-04, -3.2248e-04,\n",
            "         -4.1178e-04, -4.0885e-03, -9.7803e-03, -1.3192e-02, -1.5977e-05,\n",
            "         -1.1904e-02, -3.0875e-03,  0.0000e+00, -1.1226e-04,  0.0000e+00],\n",
            "        [ 7.3808e-06,  2.5079e-04,  3.6216e-04,  1.5627e-05,  3.0813e-03,\n",
            "          3.0405e-03,  9.5631e-04,  3.1754e-03,  2.4176e-04,  0.0000e+00,\n",
            "          1.3607e-05,  1.3517e-03,  3.4340e-03,  4.6305e-03,  1.3107e-05,\n",
            "          6.4826e-03,  1.2935e-04,  0.0000e+00,  6.2454e-05,  0.0000e+00],\n",
            "        [ 4.7129e-05,  7.4619e-04,  9.0549e-04,  3.9072e-05,  1.9300e-02,\n",
            "          1.5419e-02,  1.0640e-02,  3.0822e-02,  9.1950e-04,  7.6410e-04,\n",
            "          9.7569e-04,  9.6874e-03,  2.3174e-02,  3.1256e-02,  3.7857e-05,\n",
            "          2.8205e-02,  7.3157e-03,  0.0000e+00,  2.6600e-04,  0.0000e+00],\n",
            "        [ 0.0000e+00, -1.8886e-04, -1.0955e-04, -9.8893e-06, -2.8799e-03,\n",
            "         -2.5449e-03, -1.7862e-03, -6.8567e-03, -7.9736e-05, -1.9340e-04,\n",
            "         -2.4695e-04, -1.1785e-03, -5.0246e-03, -5.5834e-03,  0.0000e+00,\n",
            "         -4.8133e-03, -1.7351e-03,  0.0000e+00, -2.7802e-05,  0.0000e+00]])\n",
            "tensor([[-4.1820e-02, -1.6679e-01,  0.0000e+00, -4.7665e-03, -8.3540e-02,\n",
            "          0.0000e+00, -2.5242e-02, -2.3316e-05, -5.7943e-02, -3.6191e-02,\n",
            "         -2.5424e-01,  0.0000e+00,  0.0000e+00, -6.5636e-02, -8.3981e-02,\n",
            "          0.0000e+00, -5.3429e-02,  0.0000e+00, -2.0338e-01, -1.0789e-01,\n",
            "         -4.9417e-02, -1.8089e-01, -1.7692e-01, -1.8539e-03, -5.9682e-02,\n",
            "         -1.0729e-01, -2.1254e-01, -1.0728e-02, -2.2306e-01, -4.0107e-02]])\n"
          ],
          "name": "stdout"
        }
      ]
    },
    {
      "cell_type": "markdown",
      "metadata": {
        "id": "yDp0ceaHHMdQ"
      },
      "source": [
        "## Your \"homework-1: part 1\" starts here "
      ]
    },
    {
      "cell_type": "markdown",
      "metadata": {
        "id": "0jp-eYddHMdR"
      },
      "source": [
        "### The loss function\n",
        "\n",
        "Since we want to predict probabilities, it would be logical for us to define softmax nonlinearity on top of our network and compute loss given predicted probabilities. However, there is a better way to do so.\n",
        "\n",
        "If you write down the expression for crossentropy as a function of softmax logits (a), you'll see:\n",
        "\n",
        "$$ loss = - log \\space {e^{a_{correct}} \\over {\\underset i \\sum e^{a_i} } } $$\n",
        "\n",
        "If you take a closer look, ya'll see that it can be rewritten as:\n",
        "\n",
        "$$ loss = - a_{correct} + log {\\underset i \\sum e^{a_i} } $$\n",
        "\n",
        "It's called Log-softmax and it's better than naive log(softmax(a)) in all aspects:\n",
        "* Better numerical stability\n",
        "* Easier to get derivative right\n",
        "* Marginally faster to compute\n",
        "\n",
        "So why not just use log-softmax throughout our computation and never actually bother to estimate probabilities.\n",
        "\n",
        "Here you are! We've defined the both loss functions for you so that you could focus on neural network part."
      ]
    },
    {
      "cell_type": "code",
      "metadata": {
        "id": "oEEBPRYYHMdS"
      },
      "source": [
        "def softmax_crossentropy_with_logits(logits,reference_answers):\n",
        "    \"\"\"Compute crossentropy from logits[batch,n_classes] and ids of correct answers\"\"\"\n",
        "    logits_for_answers = logits[np.arange(len(logits)),reference_answers]\n",
        "    \n",
        "    xentropy = - logits_for_answers + np.log(np.sum(np.exp(logits),axis=-1))\n",
        "    \n",
        "    return xentropy\n",
        "\n",
        "def grad_softmax_crossentropy_with_logits(logits,reference_answers):\n",
        "    \"\"\"Compute crossentropy gradient from logits[batch,n_classes] and ids of correct answers\"\"\"\n",
        "    ones_for_answers = np.zeros_like(logits)\n",
        "    ones_for_answers[np.arange(len(logits)),reference_answers] = 1\n",
        "    \n",
        "    softmax = np.exp(logits) / np.exp(logits).sum(axis=-1,keepdims=True)\n",
        "    \n",
        "    return (- ones_for_answers + softmax) / logits.shape[0]"
      ],
      "execution_count": null,
      "outputs": []
    },
    {
      "cell_type": "code",
      "metadata": {
        "id": "l4VosrFfHMdS"
      },
      "source": [
        "logits = np.linspace(-1,1,500).reshape([50,10])\n",
        "answers = np.arange(50)%10\n",
        "\n",
        "softmax_crossentropy_with_logits(logits,answers)\n",
        "grads = grad_softmax_crossentropy_with_logits(logits,answers)\n",
        "numeric_grads = eval_numerical_gradient(lambda l: softmax_crossentropy_with_logits(l,answers).mean(),logits)\n",
        "\n",
        "assert np.allclose(numeric_grads,grads,rtol=1e-3,atol=0), \"The reference implementation has just failed. Someone has just changed the rules of math.\""
      ],
      "execution_count": null,
      "outputs": []
    },
    {
      "cell_type": "markdown",
      "metadata": {
        "id": "6QxYOAtOHMdS"
      },
      "source": [
        "### Full network\n",
        "\n",
        "Now let's combine what we've just built into a working neural network. As we announced, we're gonna use this monster to classify handwritten digits, so let's get them loaded."
      ]
    },
    {
      "cell_type": "code",
      "metadata": {
        "id": "5NKzu96rHMdT",
        "colab": {
          "base_uri": "https://localhost:8080/",
          "height": 696
        },
        "outputId": "d5b70d6f-e29f-4b3f-a71b-fe1dd7535935"
      },
      "source": [
        "import matplotlib.pyplot as plt\n",
        "%matplotlib inline\n",
        "\n",
        "from mnist import load_mnist\n",
        "(X_train, y_train), (X_val, y_val) = load_mnist(flatten=True)\n",
        "\n",
        "plt.figure(figsize=[6,6])\n",
        "for i in range(4):\n",
        "    plt.subplot(2,2,i+1)\n",
        "    plt.title(\"Label: %i\"%y_train[i])\n",
        "    plt.imshow(X_train[i].reshape([28,28]),cmap='gray');"
      ],
      "execution_count": null,
      "outputs": [
        {
          "output_type": "stream",
          "text": [
            "Downloading wi5xou.gz ... \n",
            "Done\n",
            "Downloading 4kmilz.gz ... \n",
            "Done\n",
            "Downloading i07sei.gz ... \n",
            "Done\n",
            "Downloading aswuq5.gz ... \n",
            "Done\n",
            "Converting wi5xou.gz to NumPy Array ...\n",
            "Done\n",
            "Converting 4kmilz.gz to NumPy Array ...\n",
            "Done\n",
            "Converting i07sei.gz to NumPy Array ...\n",
            "Done\n",
            "Converting aswuq5.gz to NumPy Array ...\n",
            "Done\n",
            "Creating pickle file ...\n",
            "Done!\n"
          ],
          "name": "stdout"
        },
        {
          "output_type": "display_data",
          "data": {
            "image/png": "[encoded data removed]",
            "text/plain": [
              "<Figure size 432x432 with 4 Axes>"
            ]
          },
          "metadata": {
            "tags": [],
            "needs_background": "light"
          }
        }
      ]
    },
    {
      "cell_type": "markdown",
      "metadata": {
        "id": "PNMdgwOrHMdT"
      },
      "source": [
        "We'll define network as a list of layers, each applied on top of previous one. In this setting, computing predictions and training becomes trivial."
      ]
    },
    {
      "cell_type": "code",
      "metadata": {
        "id": "V7M6a29iHMdT"
      },
      "source": [
        "network = []\n",
        "network.append(Dense(X_train.shape[1], 100))\n",
        "network.append(ReLU())\n",
        "network.append(Dense(100, 200))\n",
        "network.append(ReLU())\n",
        "network.append(Dense(200, 10))"
      ],
      "execution_count": null,
      "outputs": []
    },
    {
      "cell_type": "code",
      "metadata": {
        "id": "WKkhpJaRHMdT"
      },
      "source": [
        "def forward(network, X):\n",
        "    \"\"\"\n",
        "    Compute activations of all network layers by applying them sequentially.\n",
        "    Return a list of activations for each layer. \n",
        "    Make sure last activation corresponds to network logits.\n",
        "    \"\"\"\n",
        "    activations = []\n",
        "    input = X\n",
        "\n",
        "    activations.append(input)\n",
        "    for i in range(len(network)):\n",
        "      activations.append( network[i].forward(activations[i]) )\n",
        "\n",
        "    activations.pop(0)    \n",
        "    assert len(activations) == len(network)\n",
        "    return activations\n",
        "\n",
        "def predict(network, X):\n",
        "    \"\"\"\n",
        "    Use network to predict the most likely class for each sample.\n",
        "    \"\"\"\n",
        "    logits = forward(network, X)[-1]\n",
        "    return logits.argmax(axis=-1)"
      ],
      "execution_count": null,
      "outputs": []
    },
    {
      "cell_type": "markdown",
      "metadata": {
        "id": "7xAgrZ18HMdU"
      },
      "source": [
        "### Backprop\n",
        "\n",
        "You can now define the backpropagation step for the neural network. Please read the docstring."
      ]
    },
    {
      "cell_type": "code",
      "metadata": {
        "id": "TPFeCm7NHMdU"
      },
      "source": [
        "def train(network,X,y):\n",
        "    \"\"\"\n",
        "    Train your network on a given batch of X and y.\n",
        "    You first need to run forward to get all layer activations.\n",
        "    You can estimate loss and loss_grad, obtaining dL / dy_pred\n",
        "    Then you can run layer.backward going from last layer to first, \n",
        "    propagating the gradient of input to previous layers.\n",
        "    \n",
        "    After you called backward for all layers, all Dense layers have already made one gradient step.\n",
        "    \"\"\"\n",
        "    \n",
        "    # Get the layer activations\n",
        "    layer_activations = forward(network,X)\n",
        "    layer_inputs = [X] + layer_activations  #layer_input[i] is an input for network[i]\n",
        "    logits = layer_activations[-1]\n",
        "    \n",
        "    # Compute the loss and the initial gradient\n",
        "    loss = softmax_crossentropy_with_logits(logits,y)\n",
        "    loss_grad = grad_softmax_crossentropy_with_logits(logits,y)\n",
        "    \n",
        "    \n",
        "    # propagate gradients through network layers using .backward\n",
        "    # hint: start from last layer and move to earlier layers\n",
        "    \n",
        "    #No need to store all grads. But we need current last one to go backward\n",
        "    grad_output = loss_grad\n",
        "    for i in reversed(range(len(network))):\n",
        "      grad_output = network[i].backward(layer_inputs[i], grad_output)\n",
        "        \n",
        "    return np.mean(loss)"
      ],
      "execution_count": null,
      "outputs": []
    },
    {
      "cell_type": "markdown",
      "metadata": {
        "id": "ygKMyxgsHMdU"
      },
      "source": [
        "Instead of tests, we provide you with a training loop that prints training and validation accuracies on every epoch.\n",
        "\n",
        "If your implementation of forward and backward are correct, your accuracy should grow from 90~93% to >97% with the default network."
      ]
    },
    {
      "cell_type": "markdown",
      "metadata": {
        "id": "hUiGyM8VHMdU"
      },
      "source": [
        "### Training loop\n",
        "\n",
        "As usual, we split data into minibatches, feed each such minibatch into the network and update weights."
      ]
    },
    {
      "cell_type": "code",
      "metadata": {
        "id": "wYjWy3tiHMdU"
      },
      "source": [
        "from tqdm import trange\n",
        "def iterate_minibatches(inputs, targets, batchsize, shuffle=False):\n",
        "    assert len(inputs) == len(targets)\n",
        "    if shuffle:\n",
        "        indices = np.random.permutation(len(inputs))\n",
        "    for start_idx in trange(0, len(inputs) - batchsize + 1, batchsize):\n",
        "        if shuffle:\n",
        "            excerpt = indices[start_idx:start_idx + batchsize]\n",
        "        else:\n",
        "            excerpt = slice(start_idx, start_idx + batchsize)\n",
        "        yield inputs[excerpt], targets[excerpt]"
      ],
      "execution_count": null,
      "outputs": []
    },
    {
      "cell_type": "code",
      "metadata": {
        "id": "whIfFGXNHMdU"
      },
      "source": [
        "from IPython.display import clear_output"
      ],
      "execution_count": null,
      "outputs": []
    },
    {
      "cell_type": "markdown",
      "metadata": {
        "id": "iaH_6Pjf3KP4"
      },
      "source": [
        "Базовая сетка"
      ]
    },
    {
      "cell_type": "code",
      "metadata": {
        "id": "GTmyGxbRHMdV",
        "colab": {
          "base_uri": "https://localhost:8080/",
          "height": 350
        },
        "outputId": "ab42a28c-c29d-4946-9058-9f6c8ee5008e"
      },
      "source": [
        "%%time\n",
        "\n",
        "network = []\n",
        "network.append(Dense(X_train.shape[1], 100))\n",
        "network.append(ReLU())\n",
        "network.append(Dense(100, 200))\n",
        "network.append(ReLU())\n",
        "network.append(Dense(200, 10))\n",
        "\n",
        "train_log = []\n",
        "val_log = []\n",
        "\n",
        "for epoch in range(25):\n",
        "\n",
        "    for x_batch,y_batch in iterate_minibatches(X_train, y_train, batchsize=32, shuffle=True):\n",
        "        train(network, x_batch, y_batch)\n",
        "    \n",
        "    train_log.append(np.mean(predict(network, X_train) == y_train))\n",
        "    val_log.append(np.mean(predict(network, X_val) == y_val))\n",
        "    \n",
        "    clear_output()\n",
        "    print(\"Epoch\",epoch)\n",
        "    print(\"Train accuracy:\",train_log[-1])\n",
        "    print(\"Val accuracy:\",val_log[-1])\n",
        "    plt.plot(train_log,label='train accuracy')\n",
        "    plt.plot(val_log,label='val accuracy')\n",
        "    plt.legend(loc='best')\n",
        "    plt.grid()\n",
        "    plt.show()\n",
        "    "
      ],
      "execution_count": null,
      "outputs": [
        {
          "output_type": "stream",
          "text": [
            "Epoch 24\n",
            "Train accuracy: 1.0\n",
            "Val accuracy: 0.9811\n"
          ],
          "name": "stdout"
        },
        {
          "output_type": "display_data",
          "data": {
            "image/png": "[encoded data removed]",
            "text/plain": [
              "<Figure size 432x288 with 1 Axes>"
            ]
          },
          "metadata": {
            "tags": [],
            "needs_background": "light"
          }
        },
        {
          "output_type": "stream",
          "text": [
            "CPU times: user 2min 34s, sys: 1min 14s, total: 3min 49s\n",
            "Wall time: 1min 59s\n"
          ],
          "name": "stdout"
        }
      ]
    },
    {
      "cell_type": "markdown",
      "metadata": {
        "id": "pMZiPvdtHMdW"
      },
      "source": [
        "__What should you see:__ `train accuracy` should increase to near-100%. Val accuracy will also increase, allbeit to a smaller value.\n",
        "\n",
        "__What else to try:__ You can try implementing different nonlinearities, dropout or composing neural network of more layers. See how this affects training speed, overfitting & final quality.\n",
        "\n",
        "Good hunting!"
      ]
    },
    {
      "cell_type": "markdown",
      "metadata": {
        "id": "r_BvjNsV3oLc"
      },
      "source": [
        "Везде идентичные условия обучения. Меняется лишь структура сети."
      ]
    },
    {
      "cell_type": "code",
      "metadata": {
        "colab": {
          "base_uri": "https://localhost:8080/",
          "height": 350
        },
        "id": "Si7ywkVf34_9",
        "outputId": "dcb3613e-26b3-481c-c25d-0543cc8571cd"
      },
      "source": [
        "%%time\n",
        "\n",
        "network = []\n",
        "network.append(Dense(X_train.shape[1], 10))\n",
        "network.append(ReLU())\n",
        "network.append(Dense(10, 20))\n",
        "network.append(ReLU())\n",
        "network.append(Dense(20, 10))\n",
        "\n",
        "train_log = []\n",
        "val_log = []\n",
        "\n",
        "for epoch in range(25):\n",
        "\n",
        "    for x_batch,y_batch in iterate_minibatches(X_train, y_train, batchsize=32, shuffle=True):\n",
        "        train(network, x_batch, y_batch)\n",
        "    \n",
        "    train_log.append(np.mean(predict(network, X_train) == y_train))\n",
        "    val_log.append(np.mean(predict(network, X_val) == y_val))\n",
        "    \n",
        "    clear_output()\n",
        "    print(\"Epoch\",epoch)\n",
        "    print(\"Train accuracy:\",train_log[-1])\n",
        "    print(\"Val accuracy:\",val_log[-1])\n",
        "    plt.plot(train_log,label='train accuracy')\n",
        "    plt.plot(val_log,label='val accuracy')\n",
        "    plt.legend(loc='best')\n",
        "    plt.grid()\n",
        "    plt.show()\n",
        "    "
      ],
      "execution_count": null,
      "outputs": [
        {
          "output_type": "stream",
          "text": [
            "Epoch 24\n",
            "Train accuracy: 0.9544666666666667\n",
            "Val accuracy: 0.9424\n"
          ],
          "name": "stdout"
        },
        {
          "output_type": "display_data",
          "data": {
            "image/png": "[encoded data removed]",
            "text/plain": [
              "<Figure size 432x288 with 1 Axes>"
            ]
          },
          "metadata": {
            "tags": [],
            "needs_background": "light"
          }
        },
        {
          "output_type": "stream",
          "text": [
            "CPU times: user 32 s, sys: 3.73 s, total: 35.7 s\n",
            "Wall time: 28.3 s\n"
          ],
          "name": "stdout"
        }
      ]
    },
    {
      "cell_type": "code",
      "metadata": {
        "colab": {
          "base_uri": "https://localhost:8080/",
          "height": 350
        },
        "id": "Qlc1l1o13di7",
        "outputId": "1e054a8e-36b8-4d55-b236-a40ad6156f18"
      },
      "source": [
        "%%time\n",
        "\n",
        "network = []\n",
        "network.append(Dense(X_train.shape[1], 100))\n",
        "network.append(ReLU())\n",
        "network.append(Dense(100, 2000))\n",
        "network.append(ReLU())\n",
        "network.append(Dense(2000, 10))\n",
        "\n",
        "train_log = []\n",
        "val_log = []\n",
        "\n",
        "for epoch in range(25):\n",
        "\n",
        "    for x_batch,y_batch in iterate_minibatches(X_train, y_train, batchsize=32, shuffle=True):\n",
        "        train(network, x_batch, y_batch)\n",
        "    \n",
        "    train_log.append(np.mean(predict(network, X_train) == y_train))\n",
        "    val_log.append(np.mean(predict(network, X_val) == y_val))\n",
        "    \n",
        "    clear_output()\n",
        "    print(\"Epoch\",epoch)\n",
        "    print(\"Train accuracy:\",train_log[-1])\n",
        "    print(\"Val accuracy:\",val_log[-1])\n",
        "    plt.plot(train_log,label='train accuracy')\n",
        "    plt.plot(val_log,label='val accuracy')\n",
        "    plt.legend(loc='best')\n",
        "    plt.grid()\n",
        "    plt.show()\n",
        "    "
      ],
      "execution_count": null,
      "outputs": [
        {
          "output_type": "stream",
          "text": [
            "Epoch 24\n",
            "Train accuracy: 1.0\n",
            "Val accuracy: 0.9818\n"
          ],
          "name": "stdout"
        },
        {
          "output_type": "display_data",
          "data": {
            "image/png": "[encoded data removed]",
            "text/plain": [
              "<Figure size 432x288 with 1 Axes>"
            ]
          },
          "metadata": {
            "tags": [],
            "needs_background": "light"
          }
        },
        {
          "output_type": "stream",
          "text": [
            "CPU times: user 7min 47s, sys: 2min 53s, total: 10min 40s\n",
            "Wall time: 5min 44s\n"
          ],
          "name": "stdout"
        }
      ]
    },
    {
      "cell_type": "code",
      "metadata": {
        "colab": {
          "base_uri": "https://localhost:8080/",
          "height": 350
        },
        "id": "nxAx2KEu3PkU",
        "outputId": "6ead4431-ab94-4865-9b00-307d550121d4"
      },
      "source": [
        "%%time\n",
        "\n",
        "network = []\n",
        "network.append(Dense(X_train.shape[1], 100))\n",
        "network.append(ReLU())\n",
        "network.append(Dense(100, 200))\n",
        "network.append(ReLU())\n",
        "network.append(Dense(200, 300))\n",
        "network.append(ReLU())\n",
        "network.append(Dense(300, 400))\n",
        "network.append(ReLU())\n",
        "network.append(Dense(400, 10))\n",
        "\n",
        "train_log = []\n",
        "val_log = []\n",
        "\n",
        "for epoch in range(25):\n",
        "\n",
        "    for x_batch,y_batch in iterate_minibatches(X_train, y_train, batchsize=32, shuffle=True):\n",
        "        train(network, x_batch, y_batch)\n",
        "    \n",
        "    train_log.append(np.mean(predict(network, X_train) == y_train))\n",
        "    val_log.append(np.mean(predict(network, X_val) == y_val))\n",
        "    \n",
        "    clear_output()\n",
        "    print(\"Epoch\",epoch)\n",
        "    print(\"Train accuracy:\",train_log[-1])\n",
        "    print(\"Val accuracy:\",val_log[-1])\n",
        "    plt.plot(train_log,label='train accuracy')\n",
        "    plt.plot(val_log,label='val accuracy')\n",
        "    plt.legend(loc='best')\n",
        "    plt.grid()\n",
        "    plt.show()\n",
        "    "
      ],
      "execution_count": null,
      "outputs": [
        {
          "output_type": "stream",
          "text": [
            "Epoch 24\n",
            "Train accuracy: 0.9914833333333334\n",
            "Val accuracy: 0.973\n"
          ],
          "name": "stdout"
        },
        {
          "output_type": "display_data",
          "data": {
            "image/png": "[encoded data removed]",
            "text/plain": [
              "<Figure size 432x288 with 1 Axes>"
            ]
          },
          "metadata": {
            "tags": [],
            "needs_background": "light"
          }
        },
        {
          "output_type": "stream",
          "text": [
            "CPU times: user 6min 38s, sys: 2min 36s, total: 9min 15s\n",
            "Wall time: 4min 51s\n"
          ],
          "name": "stdout"
        }
      ]
    },
    {
      "cell_type": "code",
      "metadata": {
        "colab": {
          "base_uri": "https://localhost:8080/",
          "height": 350
        },
        "id": "TAun8lBW2TtJ",
        "outputId": "5430bed9-5bd6-4135-ad79-c6063f924c9b"
      },
      "source": [
        "%%time\n",
        "\n",
        "network = []\n",
        "network.append(Dense(X_train.shape[1], 100))\n",
        "network.append(ReLU())\n",
        "network.append(Dense(100, 10))\n",
        "\n",
        "train_log = []\n",
        "val_log = []\n",
        "\n",
        "for epoch in range(25):\n",
        "\n",
        "    for x_batch,y_batch in iterate_minibatches(X_train, y_train, batchsize=32, shuffle=True):\n",
        "        train(network, x_batch, y_batch)\n",
        "    \n",
        "    train_log.append(np.mean(predict(network, X_train) == y_train))\n",
        "    val_log.append(np.mean(predict(network, X_val) == y_val))\n",
        "    \n",
        "    clear_output()\n",
        "    print(\"Epoch\",epoch)\n",
        "    print(\"Train accuracy:\",train_log[-1])\n",
        "    print(\"Val accuracy:\",val_log[-1])\n",
        "    plt.plot(train_log,label='train accuracy')\n",
        "    plt.plot(val_log,label='val accuracy')\n",
        "    plt.legend(loc='best')\n",
        "    plt.grid()\n",
        "    plt.show()\n",
        "    "
      ],
      "execution_count": null,
      "outputs": [
        {
          "output_type": "stream",
          "text": [
            "Epoch 24\n",
            "Train accuracy: 0.9996833333333334\n",
            "Val accuracy: 0.9792\n"
          ],
          "name": "stdout"
        },
        {
          "output_type": "display_data",
          "data": {
            "image/png": "[encoded data removed]",
            "text/plain": [
              "<Figure size 432x288 with 1 Axes>"
            ]
          },
          "metadata": {
            "tags": [],
            "needs_background": "light"
          }
        },
        {
          "output_type": "stream",
          "text": [
            "CPU times: user 2min 9s, sys: 55.2 s, total: 3min 5s\n",
            "Wall time: 1min 37s\n"
          ],
          "name": "stdout"
        }
      ]
    },
    {
      "cell_type": "code",
      "metadata": {
        "colab": {
          "base_uri": "https://localhost:8080/",
          "height": 350
        },
        "id": "9algmqB03aa8",
        "outputId": "8001d9fa-46cf-409a-da6a-239f30f9b6f9"
      },
      "source": [
        "%%time\n",
        "\n",
        "network = []\n",
        "network.append(Dense(X_train.shape[1], 1000))\n",
        "network.append(ReLU())\n",
        "network.append(Dense(1000, 10))\n",
        "\n",
        "train_log = []\n",
        "val_log = []\n",
        "\n",
        "for epoch in range(25):\n",
        "\n",
        "    for x_batch,y_batch in iterate_minibatches(X_train, y_train, batchsize=32, shuffle=True):\n",
        "        train(network, x_batch, y_batch)\n",
        "    \n",
        "    train_log.append(np.mean(predict(network, X_train) == y_train))\n",
        "    val_log.append(np.mean(predict(network, X_val) == y_val))\n",
        "    \n",
        "    clear_output()\n",
        "    print(\"Epoch\",epoch)и\n",
        "    print(\"Train accuracy:\",train_log[-1])\n",
        "    print(\"Val accuracy:\",val_log[-1])\n",
        "    plt.plot(train_log,label='train accuracy')\n",
        "    plt.plot(val_log,label='val accuracy')\n",
        "    plt.legend(loc='best')\n",
        "    plt.grid()\n",
        "    plt.show()\n",
        "    "
      ],
      "execution_count": null,
      "outputs": [
        {
          "output_type": "stream",
          "text": [
            "Epoch 24\n",
            "Train accuracy: 0.9999666666666667\n",
            "Val accuracy: 0.982\n"
          ],
          "name": "stdout"
        },
        {
          "output_type": "display_data",
          "data": {
            "image/png": "[encoded data removed]",
            "text/plain": [
              "<Figure size 432x288 with 1 Axes>"
            ]
          },
          "metadata": {
            "tags": [],
            "needs_background": "light"
          }
        },
        {
          "output_type": "stream",
          "text": [
            "CPU times: user 14min 43s, sys: 3min 25s, total: 18min 8s\n",
            "Wall time: 9min 32s\n"
          ],
          "name": "stdout"
        }
      ]
    },
    {
      "cell_type": "markdown",
      "metadata": {
        "id": "Gstx2mMf9Ung"
      },
      "source": [
        "Очень интересно выходит! Глобально нам не удалось улучшить резы. Локально - последний вариант самый сильный. Заметим, что в нем всего два полносвязных слоя, зато они потолще (теорема Цыбенко). "
      ]
    }
  ]
}